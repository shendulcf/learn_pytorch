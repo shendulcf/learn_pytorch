{
 "cells": [
  {
   "cell_type": "code",
   "execution_count": null,
   "metadata": {},
   "outputs": [],
   "source": [
    "''' example\n",
    "for input, target in dataset:\n",
    "    optimizer.zero_grad()  把上一步loss.backward()计算的梯度清零！\n",
    "    output = model(input)\n",
    "    loss = loss_fn(output, target)\n",
    "    loss.backward()\n",
    "    optimizer.step()\n",
    "'''"
   ]
  },
  {
   "cell_type": "code",
   "execution_count": null,
   "metadata": {},
   "outputs": [],
   "source": [
    "import torch\n",
    "import torch.nn as nn\n",
    "import torch.optim as optim\n",
    "\n",
    "import torch\n",
    "import torchsummary\n",
    "from torchsummary import summary\n",
    "\n",
    "\n",
    "class FanFan(nn.Module):\n",
    "\n",
    "    def __init__(self):\n",
    "        super(FanFan,self).__init__()\n",
    "        self.conv1 = nn.Conv2d(3, 32, 5, padding=2)\n",
    "        self.maxpool1 = nn.MaxPool2d(2)\n",
    "        self.conv2 = nn.Conv2d(32, 32, 5, padding=2)\n",
    "        self.maxpool2 = nn.MaxPool2d(2)\n",
    "        self.conv3 = nn.Conv2d(32, 64, 5, padding=2)\n",
    "        self.maxpool3 = nn.MaxPool2d(2)\n",
    "        self.flatten = nn.Flatten()\n",
    "        self.linear1 = nn.Linear(1024, 64)\n",
    "        self.linear2 = nn.Linear(64, 10)\n",
    "\n",
    "    def forward(self,x):\n",
    "        x = self.conv1(x)\n",
    "        x = self.maxpool1(x)\n",
    "        x = self.conv2(x)\n",
    "        x = self.maxpool2(x)\n",
    "        x = self.conv3(x)\n",
    "        x = self.maxpool3(x)\n",
    "        x = self.flatten(x)\n",
    "        x = self.linear1(x)\n",
    "        x = self.linear2(x)\n",
    "        return x\n",
    "\n",
    "loss = nn.CrossEntropyLoss()\n",
    "fanfan = FanFan()\n",
    "optimer = optim.Adam(fanfan.parameters(),lr=0.01)\n",
    "\n",
    "for epoch in range(20):\n",
    "  running_loss = 0.0\n",
    "  for data in dataloader:\n",
    "    optimer.zero_grad()\n",
    "    imgs,targets = data\n",
    "    outputs = fanfan(imgs)\n",
    "    result_loss = loss(outputs,targets)\n",
    "    result_loss.backward()\n",
    "    optimer.step()\n",
    "    running_loss += result_loss\n",
    "print('running_loss = f%'%running_loss)\n"
   ]
  }
 ],
 "metadata": {
  "language_info": {
   "name": "python"
  },
  "orig_nbformat": 4
 },
 "nbformat": 4,
 "nbformat_minor": 2
}
