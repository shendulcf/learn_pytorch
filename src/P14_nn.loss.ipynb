{
 "cells": [
  {
   "cell_type": "code",
   "execution_count": 17,
   "metadata": {},
   "outputs": [],
   "source": [
    "import torch\n",
    "from torch.nn import L1Loss,MSELoss,CrossEntropyLoss\n",
    "\n",
    "input = torch.tensor([1,2,3],dtype=torch.float32)\n",
    "target = torch.tensor([1,2,5],dtype=torch.float32)\n",
    "\n",
    "input = input.reshape([1,1,1,3])\n",
    "target = target.reshape([1,1,1,3])\n",
    "\n",
    "loss = L1Loss()"
   ]
  },
  {
   "cell_type": "code",
   "execution_count": 18,
   "metadata": {},
   "outputs": [
    {
     "name": "stdout",
     "output_type": "stream",
     "text": [
      "tensor(0.6667)\n"
     ]
    }
   ],
   "source": [
    "loss = L1Loss()\n",
    "result = loss(input,target)\n",
    "print(result)"
   ]
  },
  {
   "cell_type": "code",
   "execution_count": 19,
   "metadata": {},
   "outputs": [
    {
     "data": {
      "text/plain": [
       "tensor(1.3333)"
      ]
     },
     "execution_count": 19,
     "metadata": {},
     "output_type": "execute_result"
    }
   ],
   "source": [
    "loss2 = MSELoss()\n",
    "result2 = loss2(input,target)\n",
    "result2"
   ]
  },
  {
   "cell_type": "code",
   "execution_count": 23,
   "metadata": {},
   "outputs": [
    {
     "data": {
      "text/plain": [
       "tensor(1.1019)"
      ]
     },
     "execution_count": 23,
     "metadata": {},
     "output_type": "execute_result"
    }
   ],
   "source": [
    "x = torch.tensor([0.1, 0.2, 0.3])\n",
    "y = torch.tensor([1])\n",
    "# x = torch.reshape(x,(1,3))\n",
    "x = x.reshape([1,3])\n",
    "x\n",
    "loss3 = CrossEntropyLoss()\n",
    "result3 = loss3(x,y)\n",
    "result3"
   ]
  }
 ],
 "metadata": {
  "interpreter": {
   "hash": "0b749f76f95eccfe306708669d82109f7e5c80c589b5c5e4336c9e8a3ef8a3f2"
  },
  "kernelspec": {
   "display_name": "Python 3.9.7 ('pytorch_gpu')",
   "language": "python",
   "name": "python3"
  },
  "language_info": {
   "codemirror_mode": {
    "name": "ipython",
    "version": 3
   },
   "file_extension": ".py",
   "mimetype": "text/x-python",
   "name": "python",
   "nbconvert_exporter": "python",
   "pygments_lexer": "ipython3",
   "version": "3.9.7"
  },
  "orig_nbformat": 4
 },
 "nbformat": 4,
 "nbformat_minor": 2
}
