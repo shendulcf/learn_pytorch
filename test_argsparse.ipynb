{
 "cells": [
  {
   "cell_type": "code",
   "execution_count": null,
   "metadata": {},
   "outputs": [],
   "source": [
    "import argparse\n",
    "\n",
    "def makeparse():\n",
    "    parse = argparse.ArgumentParser()\n",
    "    parse.add_argument('d',)"
   ]
  },
  {
   "cell_type": "markdown",
   "metadata": {},
   "source": [
    "## add_argument()方法参数说明\n",
    "1. name or flags : str\n",
    "   - 这是唯一的必选参数\n",
    "   - argparse获取的命令行参数有两类：optional argument, positional argument 对应name and flags\n",
    "   - optional argument:要有前缀，可有多个可选，可以不输入参数,命令行中输不输入均可\n",
    "   ``` python\n",
    "   parse.add_argument('-f','--foo')\n",
    "   ```\n",
    "   在命令行中输入（或使用）该参数时在需要带有将这个name or flags写出来，即’-f’或’–foo’，与输入的参数之间隔有空格或等号。表示输入的参数为与之对应的optional argument。  \n",
    "   也有不需要带参数，只输入该name or flags的情况，如默认的’-h’就是如此。\n",
    "   - positional argument:必须输入的参数，不带前缀\"-\"，在命令行输入参数时不需要带有name or flags\n",
    "2. action \n",
    "   怎么处理命令行参数，默认为保存\n",
    "\n",
    "3. nargs  \n",
    "    负责指示从命令行中读取参数的数目。有以下可选：  \n",
    "    *   N (an integer) - 使用后N个命令行参数将被保存到一个列表当中，即使N为1时也会保存一个只有一个元素的列表。\n",
    "    *   ‘?’ - 一个参数将被保存，如果不使用这个argument则保存default中的值，与optional argument或positional argument搭配均可，当与optional argument搭配时，仅使用了该argument而没有再输入参数时，将保存const中的值。\n",
    "    *   ‘\\*’ - 保存任意多个参数为一个列表，不可用在多个positional argument中使用，一个还是可以的，可以在多个optional argument中使用，因为当存在两个或以上的positional argument使用’\\*’时，区分不出参数所对应的argument，而optional argument需要在参数前写出name or flags，则不存在此问题。\n",
    "    *   ‘+’ - 与’\\*’类似，但参数个数至少为1。\n",
    "    *   argparse.REMAINDER - 所有剩下的命令行参数都保存到一个列表中。\n",
    "    *   \n",
    "4. const  \n",
    "    顾名思义，常量，配合某些action和nargs使用，不从命令行中接收参数，而保存这个const的值。注意const默认值为None。\n",
    "5. default  \n",
    "    缺省值。  \n",
    "    所有的optional arguments和一些positional arguments可能不出现在命令行中，这时就是default起作用。  \n",
    "    当optional arguments的name or flags也没有出现在命令行时，则保存default的值。  \n",
    "    如果default中的值是字符串，解析器会像从命令行中获取它一样去解析。  \n",
    "    positional arguments与nargs为’?’或’\\*’搭配时，default值会在没有与之对应的命令行参数出现时被保存。  \n",
    "    default值为argparse.SUPPRESS时，当命令行中没有出现与之对应的命令行参数，则当做什么也没发生，即当这个argument不存在。\n",
    "6. type  \n",
    "    数据的类型，可以是各种类型，甚至自定义。 将获取的字符串自动转化对应的数据类型。\n",
    "7. choices  \n",
    "    供选项，输入的命令行参数必须包含在这里面，否则报错。任何具有in操作的的对象都可以是choices。\n",
    "8. required  \n",
    "    必须的，如果required = True，那么这个optional arguments必须要出现在命令行中，否则报错。但这就很矛盾了，这个可选的参数是必选的。\n",
    "9. help  \n",
    "    不多说。\n",
    "10. metavar  \n",
    "    打印help信息时，显示的各个argument的名字。\n",
    "11. dest  \n",
    "    从命令行中获取的参数（或者是const或者是default），最终被保存到dest中，它自动生成的名字取决于name or flags。如果是positional argument，那就是这个name or flags。如果是optional argument，就取name or flags中长名字中最长的一个，并去掉’- -‘，和将多余的’-‘转化为’\\_’，若没有长名字，则取第一个短名字。  \n",
    "    也可以自己重新定义，在add\\_argument()加上这个参数dest=即可。\n",
    "\n",
    "\n"
   ]
  }
 ],
 "metadata": {
  "interpreter": {
   "hash": "1ba69ead3279dcefa2bd7fda5deb51a7e26be9b05f7bd0cbc7b7763c85faaf54"
  },
  "kernelspec": {
   "display_name": "Python 3.9.7 ('test')",
   "language": "python",
   "name": "python3"
  },
  "language_info": {
   "name": "python",
   "version": "3.9.7"
  },
  "orig_nbformat": 4
 },
 "nbformat": 4,
 "nbformat_minor": 2
}
